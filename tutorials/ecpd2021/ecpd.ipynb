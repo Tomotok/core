{
 "cells": [
  {
   "cell_type": "code",
   "execution_count": 1,
   "metadata": {},
   "outputs": [],
   "source": [
    "import time\n",
    "\n",
    "import matplotlib.pyplot as plt\n",
    "import numpy as np\n",
    "from matplotlib import rcParams\n",
    "from matplotlib.image import imread\n",
    "from matplotlib.patches import Rectangle\n",
    "from matplotlib.colors import TwoSlopeNorm\n",
    "\n",
    "from tomotok.core.phantoms import gauss_iso\n",
    "from tomotok.core.geometry import RegularGrid, sparse_line_3d, generate_los\n",
    "from tomotok.core.derivative import derivative_matrix\n",
    "from tomotok.core.inversions import GevFastAlgebraic, Mfr, SimpleBob, SvdFastAlgebraic"
   ]
  },
  {
   "cell_type": "code",
   "execution_count": 2,
   "metadata": {},
   "outputs": [],
   "source": [
    "rcParams['font.family'] = 'serif'\n",
    "rcParams['font.size'] = 6\n",
    "rcParams['figure.dpi'] = 200\n",
    "rcParams['image.origin'] = 'lower'\n",
    "rcParams['image.cmap'] = 'RdBu'\n",
    "rcParams['lines.linewidth'] = 1"
   ]
  },
  {
   "cell_type": "code",
   "execution_count": 3,
   "metadata": {},
   "outputs": [],
   "source": [
    "svd = SvdFastAlgebraic()\n",
    "gev = GevFastAlgebraic()\n",
    "mfr = Mfr()"
   ]
  },
  {
   "cell_type": "markdown",
   "metadata": {},
   "source": [
    "# Linear Detectors\n",
    " - sets up a system of linear array detectors\n",
    " - computes geometry matrix\n",
    " - creates phantom emissivity \n",
    " - computes synthetic signals \n",
    " - performs inversions using SVD and GEV variants of Fast Algebraic version of LAME algorithm\n",
    " - performs inversion using MFR "
   ]
  },
  {
   "cell_type": "code",
   "execution_count": 4,
   "metadata": {},
   "outputs": [],
   "source": [
    "# grit limits\n",
    "rlim = (.3, .7)\n",
    "zlim = (-.4, .4)\n",
    "\n",
    "# create inversion grid with desired node size\n",
    "# grid = RegularGrid(10, 20, rlim, zlim)  # 4x4cm\n",
    "# grid = RegularGrid(20, 40, rlim, zlim)  # 2x2cm, used for paper figures\n",
    "grid = RegularGrid(40, 80, rlim, zlim)  # 1x1cm\n",
    "# grid = RegularGrid(80, 160, rlim, zlim)  # .5x.5cm"
   ]
  },
  {
   "cell_type": "code",
   "execution_count": 5,
   "metadata": {},
   "outputs": [],
   "source": [
    "num = 20  # detectors per array\n",
    "s1, e1 = generate_los(num=(num, 1), fov=(70, 0), pinhole=(1, 0, 0), axis=(-1, 0, 0))  # horizontal\n",
    "s2, e2 = generate_los(num=(num, 1), fov=(50, 0), pinhole=(.5, 0, .7), axis=(.01, 0, -1), elong=1.5)  # top\n",
    "s3, e3 = generate_los(num=(num, 1), fov=(50, 0), pinhole=(.9, 0, -.5), axis=(-1, 0, 1), elong=1.5)  # angled bottom\n",
    "s4, e4 = generate_los(num=(num, 1), fov=(50, 0), pinhole=(.9, 0, .5), axis=(-1, 0, -1), elong=1.5)  # angled top\n",
    "\n",
    "# combine line of sights coordinates of arrays into one variable\n",
    "ss = []\n",
    "es = []\n",
    "ss.append(s1)\n",
    "es.append(e1)\n",
    "ss.append(s2)\n",
    "es.append(e2)\n",
    "ss.append(s3)\n",
    "es.append(e3)\n",
    "es.append(e4)\n",
    "ss.append(s4)\n",
    "s = np.concatenate(ss, 0)\n",
    "e = np.concatenate(es, 0)"
   ]
  },
  {
   "cell_type": "code",
   "execution_count": 6,
   "metadata": {},
   "outputs": [],
   "source": [
    "chnls = np.arange(s.shape[0])\n",
    "rch = np.zeros((s.shape[0], 2))\n",
    "zch = np.zeros((s.shape[0], 2))\n",
    "rch[:, 0] = s[:, 0]\n",
    "rch[:, 1] = e[:, 0]\n",
    "zch[:, 0] = s[:, 2]\n",
    "zch[:, 1] = e[:, 2]"
   ]
  },
  {
   "cell_type": "code",
   "execution_count": null,
   "metadata": {},
   "outputs": [],
   "source": [
    "# display line of sights and the extent of the grid\n",
    "losf = plt.figure(\n",
    "  # figsize=(2., 2.), \n",
    "  figsize=(1.5, 1.5),\n",
    "  dpi=200\n",
    ")\n",
    "ax = plt.axes()\n",
    "ax.set_aspect(1)\n",
    "ax.set_xlim(0, 1)\n",
    "ax.set_ylim(-0.5, 0.7)\n",
    "\n",
    "ax.set_xlabel('R [-]')\n",
    "ax.set_ylabel('z [-]')\n",
    "\n",
    "ax.plot(rch.T, zch.T, 'k', lw=0.5, alpha=0.5)\n",
    "rct = Rectangle((grid.rmin, grid.zmin), grid.rmax - grid.rmin, grid.zmax - grid.zmin)\n",
    "ax.add_patch(rct, )\n",
    "\n",
    "# losf.savefig('los.png', bbox_inches='tight', pad_inches=0)\n",
    "plt.show()"
   ]
  },
  {
   "cell_type": "code",
   "execution_count": null,
   "metadata": {},
   "outputs": [],
   "source": [
    "gmat = sparse_line_3d(rch, zch, grid, rmin=.2)\n",
    "dgmat = gmat.toarray()"
   ]
  },
  {
   "cell_type": "code",
   "execution_count": 9,
   "metadata": {},
   "outputs": [],
   "source": [
    "phantom = gauss_iso(grid.nr, grid.nz, w=.2) * 100"
   ]
  },
  {
   "cell_type": "code",
   "execution_count": null,
   "metadata": {},
   "outputs": [],
   "source": [
    "ad1 = plt.figure(\n",
    "    # figsize=(1., 2.), \n",
    "    figsize=(1.5, 1.5),\n",
    "    dpi=200\n",
    ")\n",
    "ad1ax = ad1.add_subplot(111)\n",
    "ad1ax.set_aspect(1)\n",
    "ad1ax.set_xlabel('R [-]')\n",
    "ad1ax.set_ylabel('z [-]')\n",
    "\n",
    "ad1img = ad1ax.imshow(phantom, extent=grid.extent, origin='lower', cmap='Blues', vmax=100)\n",
    "\n",
    "ad1cax = ad1ax.inset_axes(bounds=[1.1, 0., .05, 1])\n",
    "\n",
    "ad1.colorbar(ad1img, cax=ad1cax, ax=ad1ax, label='Emissivity [-]')\n",
    "\n",
    "# ad1.savefig('phantom1.png', bbox_inches='tight', pad_inches=0)\n",
    "plt.show()"
   ]
  },
  {
   "cell_type": "code",
   "execution_count": 11,
   "metadata": {},
   "outputs": [],
   "source": [
    "sig = gmat.dot(phantom.flatten())\n",
    "\n",
    "# add noise\n",
    "# ampl_noise = sig.max() * .02\n",
    "# sig += np.random.normal(0, ampl_noise, sig.size)\n",
    "\n",
    "data = sig.reshape(1, -1)  # data should have shape (#time slices, #channels/pixels)\n",
    "\n",
    "# expected error in data\n",
    "errors = .001"
   ]
  },
  {
   "cell_type": "code",
   "execution_count": 12,
   "metadata": {},
   "outputs": [],
   "source": [
    "# derivative matrices for the inversion\n",
    "derivs = [\n",
    "    [derivative_matrix(grid, 'right'), derivative_matrix(grid, 'top')],\n",
    "    [derivative_matrix(grid, 'top'), derivative_matrix(grid, 'left')],\n",
    "]"
   ]
  },
  {
   "cell_type": "code",
   "execution_count": null,
   "metadata": {},
   "outputs": [],
   "source": [
    "ela = time.time()\n",
    "sout = svd(data, dgmat, derivatives=derivs, errors=errors, method='logmean')\n",
    "ela = time.time() - ela\n",
    "print('svd', ela, 's')"
   ]
  },
  {
   "cell_type": "code",
   "execution_count": null,
   "metadata": {},
   "outputs": [],
   "source": [
    "ela = time.time()\n",
    "gout = gev(data, dgmat, derivs, errors, method='logmean')\n",
    "ela = time.time() - ela\n",
    "print('gev', ela, 's')"
   ]
  },
  {
   "cell_type": "code",
   "execution_count": null,
   "metadata": {},
   "outputs": [],
   "source": [
    "mout = mfr(data, gmat, derivs, errors)"
   ]
  },
  {
   "cell_type": "markdown",
   "metadata": {},
   "source": [
    "# Matrix Camera\n",
    "- sets up a system based on tangentially viewing matrix camera\n",
    "- computes geometry matrix\n",
    "- creates phantom emissivity \n",
    "- computes synthetic image\n",
    "- performs inversions using MFR and BOB"
   ]
  },
  {
   "cell_type": "code",
   "execution_count": 16,
   "metadata": {},
   "outputs": [],
   "source": [
    "# matrix camera definition\n",
    "# resolution = (40, 40)  # old camera resolution\n",
    "resolution = (80, 80)  # new camera resolution\n",
    "fov = (60, 60)\n",
    "pinhole_position = (0.8, 0.1, 0.2)\n",
    "camera_axis = (-1, -0.2, 0.25,)\n",
    "\n",
    "start, end = generate_los(\n",
    "    pinhole=pinhole_position,\n",
    "    axis=camera_axis,\n",
    "    num=resolution, \n",
    "    fov=fov, \n",
    "    elong=3,\n",
    ")\n",
    "\n",
    "nch = start.shape[0]\n",
    "xc = np.zeros((nch, 2))\n",
    "yc = np.zeros((nch, 2))\n",
    "zc = np.zeros((nch, 2))\n",
    "xc[:, 0] = start[:, 0]\n",
    "xc[:, 1] = end[:, 0]\n",
    "yc[:, 0] = start[:, 1]\n",
    "yc[:, 1] = end[:, 1]\n",
    "zc[:, 0] = start[:, 2]\n",
    "zc[:, 1] = end[:, 2]"
   ]
  },
  {
   "cell_type": "code",
   "execution_count": null,
   "metadata": {},
   "outputs": [],
   "source": [
    "grid2 = RegularGrid(30, 40, (.2, .8), (-.4, .4))\n",
    "gmat2 = sparse_line_3d(xc, yc, grid2, zc, rmin=.2)\n",
    "\n",
    "grid_column = RegularGrid(1, 1, (0, 0.2, ), (-.4, .4))\n",
    "gmat_column = sparse_line_3d(xc, yc, grid_column, zc)\n",
    "image_column = gmat_column.dot(np.array([1]))"
   ]
  },
  {
   "cell_type": "code",
   "execution_count": 18,
   "metadata": {},
   "outputs": [],
   "source": [
    "phantom2 = gauss_iso(grid2.nr, grid2.nz, cen=.5) * 100\n",
    "image = gmat2.dot(phantom2.reshape(-1, 1))\n",
    "derivs2 = [\n",
    "    [derivative_matrix(grid2, 'right'), derivative_matrix(grid2, 'top')],\n",
    "    [derivative_matrix(grid2, 'left'), derivative_matrix(grid2, 'bottom')],\n",
    "]"
   ]
  },
  {
   "cell_type": "code",
   "execution_count": null,
   "metadata": {},
   "outputs": [],
   "source": [
    "bob = SimpleBob()\n",
    "ela2 = time.time()\n",
    "bob.decompose(gmat2)\n",
    "ela2 = time.time() - ela2"
   ]
  },
  {
   "cell_type": "code",
   "execution_count": null,
   "metadata": {},
   "outputs": [],
   "source": [
    "bout = bob(image, gmat2)\n",
    "mout2 = mfr(\n",
    "    data=image.reshape(1, -1), \n",
    "    gmat=gmat2, \n",
    "    errors=np.ones((1, image.size))*1e-5,\n",
    "    derivatives=derivs2,\n",
    "    bounds=(-15,0),\n",
    ")"
   ]
  },
  {
   "cell_type": "markdown",
   "metadata": {},
   "source": [
    "# Paper figures"
   ]
  },
  {
   "cell_type": "markdown",
   "metadata": {},
   "source": [
    "## Figure 2"
   ]
  },
  {
   "cell_type": "code",
   "execution_count": null,
   "metadata": {},
   "outputs": [],
   "source": [
    "# layout of linear array detectors + a node projection in compass tokamak from CALCAM + artificial image obtained from the matrix camera\n",
    "\n",
    "lna = plt.figure(figsize=(6, 1.5))\n",
    "lnaax = lna.subplots(1, 3)\n",
    "\n",
    "\n",
    "lnaax[0].set_aspect(1)\n",
    "lnaax[0].set_xlim(0, 1)\n",
    "lnaax[0].set_xticks((0, grid.rmin, grid.rmax, 1))\n",
    "lnaax[0].set_ylim(-.5, .7)\n",
    "lnaax[0].set_title('Linear Layout')\n",
    "lnaax[0].set_xlabel('R [-]')\n",
    "lnaax[0].set_ylabel('z [-]')\n",
    "\n",
    "lnaax[2].set_axis_off()\n",
    "lnaax[2].set_title('Artificial Image')\n",
    "\n",
    "lnaax[0].plot(rch.T, zch.T, 'k', lw=0.5, alpha=0.5)\n",
    "rct = Rectangle((grid.rmin, grid.zmin), grid.rmax - grid.rmin, grid.zmax - grid.zmin)\n",
    "lnaax[0].add_patch(rct, )\n",
    "\n",
    "# The node projections with a wireframe of COMPASS vessel was calculated separately in CALCAM\n",
    "# It can not be easily reproduced here, so the image is loaded if available\n",
    "# Otherwise a simple node projection is drawn\n",
    "try:\n",
    "    lnaax[1].set_title('Node Projection')\n",
    "    node = imread('node_image_plane.png')\n",
    "    lnaax[1].imshow(node, origin='upper')\n",
    "    lnaax[1].set_axis_off()\n",
    "except FileNotFoundError:\n",
    "    from matplotlib.colors import LinearSegmentedColormap\n",
    "    cmap = LinearSegmentedColormap.from_list('foo', [(0, 'white'), (1, 'C1')])\n",
    "    tmp = np.zeros_like(phantom2)\n",
    "    tmp[18, 17] = 100\n",
    "    replacement = gmat2 @ tmp.flatten()\n",
    "    replacement = replacement.reshape(resolution).T > 0\n",
    "    lnaax[1].imshow(replacement, cmap=cmap, origin='lower')\n",
    "    lnaax[1].set_axis_off()\n",
    "\n",
    "ncimg = lnaax[2].imshow(image.reshape(resolution).T, cmap='Blues', origin='lower')\n",
    "nccax = lnaax[2].inset_axes(bounds=[1.1, 0., .05, 1])\n",
    "lna.colorbar(ncimg, cax=nccax, label='Signal [-]')\n",
    "\n",
    "lnaax[2].text(3.2/4*resolution[0], 1/4*resolution[1], 'Central column', rotation='vertical')\n",
    "lnaax[2].contour(image_column.reshape(resolution).T, levels=[0], colors='k', linewidths=0.5)\n",
    "\n",
    "# lna.savefig('setups.png', bbox_inches='tight', pad_inches=0)\n",
    "\n",
    "plt.show()\n"
   ]
  },
  {
   "cell_type": "markdown",
   "metadata": {},
   "source": [
    "## Figure 3"
   ]
  },
  {
   "cell_type": "code",
   "execution_count": null,
   "metadata": {},
   "outputs": [],
   "source": [
    "# Results of MFR + LAME compared with phantom\n",
    "\n",
    "resf1 = plt.figure(figsize=(4, 1.5), dpi=200)\n",
    "resax = resf1.subplots(1, 4, sharey=True, gridspec_kw={'wspace': .05})\n",
    "\n",
    "datas = [phantom, mout[0], sout[0], gout[0]]\n",
    "titles = ['Phantom', 'MFR', 'SVD', 'GEV']\n",
    "\n",
    "vmin = min([d.min() for d in datas])\n",
    "norm = TwoSlopeNorm(vmin=vmin, vcenter=0, vmax=100)\n",
    "\n",
    "resax[0].set_ylabel('z [-]')\n",
    "for i in range(4):\n",
    "    resax[i].set_title(titles[i])\n",
    "    resax[i].set_xlabel('R [-]')\n",
    "    # resax[i].set_ylabel('z [-]')\n",
    "    resax[i].set_xticks((grid.rmin, grid.r_center.mean(), grid.rmax))\n",
    "\n",
    "    resimg = resax[i].imshow(\n",
    "        datas[i].reshape(grid.shape), \n",
    "        extent=grid.extent, \n",
    "        norm=norm,\n",
    "        # cmap='cividis',\n",
    "    )\n",
    "\n",
    "rescax = resax[-1].inset_axes(bounds=[1.2, 0., 0.05, 1])\n",
    "\n",
    "resfcbar = resf1.colorbar(\n",
    "    resimg, cax=rescax, label='Emissivity [-]', \n",
    "    ticks=[-10, -5, 0, 50, 100],\n",
    "    spacing='proportional',\n",
    "    )\n",
    "\n",
    "# resf1.savefig('res1.png', bbox_inches='tight', pad_inches=0)\n",
    "\n",
    "plt.show()"
   ]
  },
  {
   "cell_type": "markdown",
   "metadata": {},
   "source": [
    "## Figure 4"
   ]
  },
  {
   "cell_type": "code",
   "execution_count": null,
   "metadata": {},
   "outputs": [],
   "source": [
    "# Horizontal and vertical cuts through the phantom and the reconstructions using linear system\n",
    "\n",
    "col = grid.nr // 2 - 1\n",
    "row = grid.nz // 2 \n",
    "\n",
    "cutf = plt.figure(figsize=(6,1.5))\n",
    "cutax = cutf.subplots(1, 3)\n",
    "\n",
    "cutax[0].set_title('Phantom')\n",
    "cutax[0].set_xlabel('R [-]')\n",
    "cutax[0].set_ylabel('z [-]')\n",
    "cutax[0].set_xticks((grid.rmin, grid.r_center.mean(), grid.rmax))\n",
    "cutax[0].imshow(phantom, cmap='Blues', extent=grid.extent)\n",
    "cutax[0].axhline(grid.z_border[row], lw=1, color='k', ls='--')\n",
    "cutax[0].axvline(grid.r_border[col+1], lw=1, color='k', ls='--')\n",
    "\n",
    "cutax[1].set_title('Horizontal')\n",
    "cutax[1].set_xlabel('R [-]')\n",
    "cutax[1].set_ylabel('Emissivity [-]')\n",
    "lnp, = cutax[1].plot(grid.r_center, phantom[row], label='Phantom', lw=1)\n",
    "lnm, = cutax[1].plot(grid.r_center, mout[0].reshape(grid.shape)[row], label='MFR', lw=1)\n",
    "lng, = cutax[1].plot(grid.r_center, gout[0].reshape(grid.shape)[row], label='GEV', lw=1)\n",
    "lns, = cutax[1].plot(grid.r_center, sout[0].reshape(grid.shape)[row], label='SVD', lw=1)\n",
    "\n",
    "cutax[2].set_title('Vertical')\n",
    "cutax[2].yaxis.tick_right()\n",
    "cutax[2].set_ylabel('z [-]')\n",
    "cutax[2].set_xlabel('Emissivity [-]')\n",
    "cutax[2].yaxis.set_label_position('right')\n",
    "cutax[2].plot(phantom[:, col], grid.z_center, label='Phantom', lw=1)\n",
    "cutax[2].plot(mout[0].reshape(grid.shape)[:, col], grid.z_center, label='MFR', lw=1)\n",
    "cutax[2].plot(gout[0].reshape(grid.shape)[:, col], grid.z_center, label='GEV', lw=1)\n",
    "cutax[2].plot(sout[0].reshape(grid.shape)[:, col], grid.z_center, label='SVD', lw=1)\n",
    "\n",
    "cutf.legend(handles=[lnp, lnm, lng, lns], bbox_to_anchor=[0.58, .5], loc='center left', ncol=1)\n",
    "\n",
    "# cutf.savefig(+'cuts.png', bbox_inches='tight', pad_inches=0)\n",
    "plt.show()"
   ]
  },
  {
   "cell_type": "markdown",
   "metadata": {},
   "source": [
    "## Figure 5"
   ]
  },
  {
   "cell_type": "code",
   "execution_count": null,
   "metadata": {},
   "outputs": [],
   "source": [
    "# Results of matrix camera setup of MFR and BOB\n",
    "\n",
    "resf2 = plt.figure(figsize=(5, 1.5), dpi=200)\n",
    "resax2 = resf2.subplots(1, 3)\n",
    "\n",
    "r2titles = ['Phantom', 'MFR', 'BOB']\n",
    "\n",
    "norm2 = TwoSlopeNorm(vmin=-0.4, vcenter=0, vmax=100)\n",
    "kw2 = dict(extent=grid2.extent, norm=norm2)\n",
    "kwcbar2 = dict(label='Emissivity [-]', ticks=[-0.4, -0.2, 0, 50, 100])\n",
    "\n",
    "for i, ax in enumerate(resax2):\n",
    "    ax.set_xlabel('R [-]')\n",
    "    ax.set_ylabel('z [-]')\n",
    "    ax.set_title(r2titles[i])\n",
    "    ax.set_xticks((grid2.rmin, grid2.r_center.mean(), grid2.rmax))\n",
    "\n",
    "resax2[0].imshow(phantom2, **kw2)\n",
    "resax2[1].imshow(mout2[0].reshape(grid2.shape), **kw2)\n",
    "res2img = resax2[2].imshow(bout.reshape(grid2.shape), **kw2)\n",
    "\n",
    "res2cax = resax2[2].inset_axes(bounds=[1.3, 0, 0.05, 1])\n",
    "resf2cbar = resf2.colorbar(res2img, cax=res2cax, **kwcbar2)\n",
    "\n",
    "# resf2.savefig('res2.png', bbox_inches='tight', pad_inches=0)\n",
    "\n",
    "plt.show()"
   ]
  },
  {
   "cell_type": "markdown",
   "metadata": {},
   "source": [
    "## Unused"
   ]
  },
  {
   "cell_type": "code",
   "execution_count": null,
   "metadata": {},
   "outputs": [],
   "source": [
    "# Artificial image and results merged in one figure\n",
    "\n",
    "merged = plt.figure(figsize=(6, 1.5))\n",
    "meax = merged.subplots(1, 5)\n",
    "ofs=2\n",
    "\n",
    "mtitles = ['Phantom', 'MFR', 'BOB']\n",
    "\n",
    "for i, ax in enumerate(meax[ofs:]):\n",
    "    ax.set_xlabel('R [-]')\n",
    "    ax.set_title(mtitles[i])\n",
    "\n",
    "meax[0].set_axis_off()\n",
    "meax[1].set_axis_off()\n",
    "\n",
    "meax[0+ofs].set_ylabel('z [-]')\n",
    "meax[1+ofs].set_yticklabels(())\n",
    "meax[2+ofs].set_yticklabels(())\n",
    "\n",
    "meax[0+ofs].imshow(phantom2, **kw2)\n",
    "meax[1+ofs].imshow(mout2[0].reshape(grid2.shape), **kw2)\n",
    "meimg2 = meax[2+ofs].imshow(bout.reshape(grid2.shape), **kw2)\n",
    "\n",
    "mecax2 = meax[2+ofs].inset_axes(bounds=[1.3, 0, 0.05, 1])\n",
    "merged.colorbar(meimg2, cax=mecax2, **kwcbar2)\n",
    "\n",
    "meimg = meax[0].imshow(image.reshape(resolution, order='F'), cmap='Blues')\n",
    "mecax = meax[0].inset_axes(bounds=[1.1, 0, 0.05, 1])\n",
    "merged.colorbar(meimg, cax=mecax, label='Signal [-]')\n",
    "\n",
    "meax[0].text(32/40*resolution[0], 0.5/4*resolution[1], 'Central column', rotation='vertical')\n",
    "meax[0].contour(image_column.reshape(resolution).T, levels=[0], colors='k', linewidths=0.5)\n",
    "meax[0].set_title('Artificial Image')\n",
    "\n",
    "# merged.savefig('res2m.png', bbox_inches='tight', pad_inches=0)\n",
    "\n",
    "plt.show()"
   ]
  },
  {
   "cell_type": "code",
   "execution_count": null,
   "metadata": {},
   "outputs": [],
   "source": [
    "gevf2 = plt.figure(figsize=(6,1.5))\n",
    "gevax1, gevax2 = gevf2.subplots(1,2)\n",
    "\n",
    "gevax1.set_xlabel('R [-]')\n",
    "gevax1.set_ylabel('z [-]')\n",
    "gevax1.set_title('GEV')\n",
    "img = gevax1.imshow(gout[0].reshape(grid.shape), extent=grid.extent, norm=norm)\n",
    "\n",
    "gevcax2 = gevax1.inset_axes(bounds=[1.1, 0, 0.05, 1])\n",
    "\n",
    "gevf2.colorbar(img, cax=gevcax2, ticks=[-10, -5, 0, 50, 100], label='Emissivity [-]')\n",
    "\n",
    "gevax2.plot(sig, '.', markersize=2, alpha=.8, color='k', label='Signal')\n",
    "# ax2.errorbar(chnls, sig, yerr=errors, color='k', capsize=3, ls='', marker='+', label=signal)\n",
    "gevax2.plot(gmat.dot(gout[0].flatten()), '.', markersize=2, alpha=.8, label='Retrofit')\n",
    "gevax2.set_ylabel('Signal [-]')\n",
    "gevax2.set_xlabel('Channel [-]')\n",
    "gevax2.legend()\n",
    "\n",
    "# gevf2.savefig('gevrf.png', bbox_inches='tight', pad_inches=0.05)\n",
    "\n",
    "plt.show()"
   ]
  },
  {
   "cell_type": "code",
   "execution_count": null,
   "metadata": {},
   "outputs": [],
   "source": [
    "f2 = plt.figure(figsize=(6,1.5), dpi=200)\n",
    "ax1, ax2 = f2.subplots(1,2)\n",
    "\n",
    "ax1.set_xlabel('R [-]')\n",
    "ax1.set_ylabel('z [-]')\n",
    "ax1.set_title('SVD')\n",
    "img = ax1.imshow(sout[0].reshape(grid.shape), origin='lower', extent=grid.extent, norm=norm)\n",
    "\n",
    "cax = ax1.inset_axes(bounds=[1.1, 0, 0.05, 1])\n",
    "f2.colorbar(img, cax=cax, label='Emissivity [-]', ticks=[-10, -5, 0, 50, 100], spacing='proportional')\n",
    "cax.set_ylabel('Emissivity [-]')\n",
    "\n",
    "ax2.plot(sig, '.', markersize=2, alpha=.8, color='k', label='Signal')\n",
    "# ax2.errorbar(chnls, sig, yerr=errors, color='k', capsize=3, ls='', marker='+', label=signal)\n",
    "ax2.plot(gmat.dot(sout[0].flatten()), '.', markersize=2, alpha=.8, label='Retrofit')\n",
    "ax2.set_ylabel('Signal [-]')\n",
    "ax2.set_xlabel('Channel [-]')\n",
    "ax2.legend()\n",
    "\n",
    "# f2.savefig('svdrf.png', bbox_inches='tight', pad_inches=0.05)\n",
    "\n",
    "plt.show()"
   ]
  },
  {
   "cell_type": "code",
   "execution_count": null,
   "metadata": {},
   "outputs": [],
   "source": [
    "mfrf2 = plt.figure(figsize=(6,1.5))\n",
    "mfrax1, mfrax2 = mfrf2.subplots(1,2)\n",
    "\n",
    "mfrax1.set_xlabel('R [-]')\n",
    "mfrax1.set_ylabel('z [-]')\n",
    "mfrax1.set_title('MFR')\n",
    "img = mfrax1.imshow(mout[0].reshape(grid.shape), extent=grid.extent, norm=norm)\n",
    "\n",
    "mfrcax2 = mfrax1.inset_axes(bounds=[1.1, 0, 0.05, 1])\n",
    "mfrf2.colorbar(img, cax=mfrcax2, label='Emissivity [-]', ticks=[-10, -5, 0, 50, 100], spacing='proportional')\n",
    "\n",
    "mfrax2.plot(sig, '.', markersize=2, alpha=.8, color='k', label='Signal')\n",
    "# ax2.errorbar(chnls, sig, yerr=errors, color='k', capsize=3, ls='', marker='+', label=signal)\n",
    "mfrax2.plot(gmat.dot(mout[0].flatten()), '.', markersize=2, alpha=.8, label='Retrofit')\n",
    "mfrax2.set_ylabel('Signal [-]')\n",
    "mfrax2.set_xlabel('Channel [-]')\n",
    "mfrax2.legend()\n",
    "\n",
    "# mfrf2.savefig('mfrrf.png', bbox_inches='tight', pad_inches=0.05)\n",
    "\n",
    "plt.show()"
   ]
  }
 ],
 "metadata": {
  "language_info": {
   "name": "python"
  }
 },
 "nbformat": 4,
 "nbformat_minor": 2
}
