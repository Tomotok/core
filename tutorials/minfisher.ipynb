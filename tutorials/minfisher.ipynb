{
 "metadata": {
  "orig_nbformat": 2,
  "kernelspec": {
   "name": "python3",
   "display_name": "Python 3.7.3 64-bit ('anaconda3.7': conda)"
  },
  "language_info": {
   "name": "python",
   "version": "3.7.3",
   "mimetype": "text/x-python",
   "codemirror_mode": {
    "name": "ipython",
    "version": 3
   },
   "pygments_lexer": "ipython3",
   "nbconvert_exporter": "python",
   "file_extension": ".py"
  },
  "interpreter": {
   "hash": "b01bfaa30a67b0b181dd3b10f48d06f5742976a12d04fc44b9f1ae4eea24ef25"
  }
 },
 "nbformat": 4,
 "nbformat_minor": 2,
 "cells": [
  {
   "cell_type": "code",
   "execution_count": null,
   "source": [
    "import matplotlib.pyplot as plt\n",
    "import numpy as np\n",
    "\n",
    "from tomotok.core.derivative import compute_iso_dmats, compute_aniso_dmats\n",
    "from tomotok.core.phantoms import gauss_iso, iso_psi, gauss\n",
    "from tomotok.core.geometry import sparse_line_3d, RegularGrid, generate_los\n",
    "from tomotok.core.inversions import CholmodMfr, Mfr"
   ],
   "outputs": [],
   "metadata": {}
  },
  {
   "cell_type": "code",
   "execution_count": null,
   "source": [
    "grid = RegularGrid(25, 50, (.2, .7), (-.5, .5))"
   ],
   "outputs": [],
   "metadata": {}
  },
  {
   "cell_type": "code",
   "execution_count": null,
   "source": [
    "# phantom = gauss_iso(grid.nx, grid.ny, cen=.3, amp=100)\n",
    "ipsi = iso_psi(grid.nr, grid.nz, span=1.2)  # circular \"flux\" surfaces\n",
    "phantom = gauss(ipsi, cen=.3, amp=100)  # should be the same as gauss_iso"
   ],
   "outputs": [],
   "metadata": {}
  },
  {
   "cell_type": "code",
   "execution_count": null,
   "source": [
    "plt.figure()\n",
    "plt.imshow(phantom, extent=grid.extent, origin='lower')\n",
    "plt.colorbar()\n",
    "plt.show()"
   ],
   "outputs": [],
   "metadata": {}
  },
  {
   "cell_type": "code",
   "execution_count": null,
   "source": [
    "num = 20\n",
    "ss = []\n",
    "es = []\n",
    "s1, e1 = generate_los(num=(num, 1), fov=(70, 0), pinhole=(1, 0, 0), axis=(-1, 0, 0))\n",
    "s2, e2 = generate_los(num=(num, 1), fov=(35, 0), pinhole=(.4, 0, .8), axis=(.1, 0, -1), elong=1.5)\n",
    "s3, e3 = generate_los(num=(num, 1), fov=(50, 0), pinhole=(.75, 0, -.4), axis=(-1, 0, 1), elong=1.5)\n",
    "s4, e4 = generate_los(num=(num, 1), fov=(50, 0), pinhole=(.75, 0, .4), axis=(-1, 0, -1), elong=1.5)\n",
    "ss.append(s1)\n",
    "es.append(e1)\n",
    "ss.append(s2)\n",
    "es.append(e2)\n",
    "ss.append(s3)\n",
    "es.append(e3)\n",
    "es.append(e4)\n",
    "ss.append(s4)\n",
    "s = np.concatenate(ss, 0)\n",
    "e = np.concatenate(es, 0)"
   ],
   "outputs": [],
   "metadata": {}
  },
  {
   "cell_type": "code",
   "execution_count": null,
   "source": [
    "rch = np.empty((s.shape[0], 2))\n",
    "zch = np.empty((s.shape[0], 2))\n",
    "rch[:, 0] = s[:, 0]\n",
    "rch[:, 1] = e[:, 0]\n",
    "zch[:, 0] = s[:, 2]\n",
    "zch[:, 1] = e[:, 2]"
   ],
   "outputs": [],
   "metadata": {}
  },
  {
   "cell_type": "code",
   "execution_count": null,
   "source": [
    "gmat = sparse_line_3d(rch, zch, grid, rmin=.2)"
   ],
   "outputs": [],
   "metadata": {}
  },
  {
   "cell_type": "code",
   "execution_count": null,
   "source": [
    "plt.figure()\n",
    "plt.imshow(gmat.toarray().sum(0).reshape(grid.shape), extent=grid.extent, origin='lower')\n",
    "plt.colorbar()\n",
    "plt.show()"
   ],
   "outputs": [],
   "metadata": {}
  },
  {
   "cell_type": "code",
   "execution_count": null,
   "source": [
    "sig = gmat.dot(phantom.flatten())"
   ],
   "outputs": [],
   "metadata": {}
  },
  {
   "cell_type": "code",
   "execution_count": null,
   "source": [
    "plt.plot(sig)\n",
    "plt.show()"
   ],
   "outputs": [],
   "metadata": {}
  },
  {
   "cell_type": "code",
   "execution_count": null,
   "source": [
    "data = sig.reshape(1, -1)  # data should have shape (#timeslices, #channels/pixels)"
   ],
   "outputs": [],
   "metadata": {}
  },
  {
   "cell_type": "code",
   "execution_count": null,
   "source": [
    "try: \n",
    "    solver = CholmodMfr()  # requires scikit.sparse\n",
    "except ImportError:\n",
    "    solver = Mfr()  # slowlier version based on scipy.sparse"
   ],
   "outputs": [],
   "metadata": {}
  },
  {
   "cell_type": "code",
   "execution_count": null,
   "source": [
    "errors = (data + data.max() ) / 2 * .05\n",
    "# errors = .001"
   ],
   "outputs": [],
   "metadata": {}
  },
  {
   "cell_type": "code",
   "execution_count": null,
   "source": [
    "# dmats = compute_iso_dmats(grid)\n",
    "dmats = compute_aniso_dmats(grid, magflux=ipsi)"
   ],
   "outputs": [],
   "metadata": {}
  },
  {
   "cell_type": "code",
   "execution_count": null,
   "source": [
    "res, chi = solver(data, gmat, dmats, errors, danis=0)"
   ],
   "outputs": [],
   "metadata": {}
  },
  {
   "cell_type": "code",
   "execution_count": null,
   "source": [
    "f, a = plt.subplots()\n",
    "# img = a.imshow(res.reshape(grid.shape), origin='lower', extent=grid.extent)  # nodes must be squares\n",
    "img = a.pcolorfast(grid.r_center, grid.z_center, res[0].reshape(grid.shape))\n",
    "a.set_aspect(1)\n",
    "a.set_xlabel('R [-]')\n",
    "a.set_ylabel('z [-]')\n",
    "f.colorbar(img, ax=a)\n",
    "plt.show()"
   ],
   "outputs": [],
   "metadata": {}
  },
  {
   "cell_type": "code",
   "execution_count": null,
   "source": [
    "levels = np.linspace(0, res[0].max(), 10)\n",
    "plt.figure()\n",
    "plt.contour(res.reshape(grid.shape), levels=levels)\n",
    "plt.contour(phantom, linestyles='dotted', levels=levels)\n",
    "plt.show()"
   ],
   "outputs": [],
   "metadata": {}
  },
  {
   "cell_type": "code",
   "execution_count": null,
   "source": [
    "'Emissivity sum MFR: {:.2f} and phantom: {:.2f}'.format(res[0].sum(), phantom.sum())"
   ],
   "outputs": [],
   "metadata": {}
  }
 ]
}