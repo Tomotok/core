{
 "cells": [
  {
   "cell_type": "code",
   "execution_count": null,
   "metadata": {},
   "outputs": [],
   "source": [
    "import matplotlib.pyplot as plt\n",
    "import numpy as np\n",
    "\n",
    "from tomotok.core.derivative import compute_iso_dmats, compute_aniso_dmats\n",
    "from tomotok.core.phantoms import gauss_iso, iso_psi, gauss\n",
    "from tomotok.core.geometry import sparse_line_3d, RegularGrid, generate_los\n",
    "from tomotok.core.inversions import CholmodMfr, Mfr"
   ]
  },
  {
   "cell_type": "code",
   "execution_count": null,
   "metadata": {},
   "outputs": [],
   "source": [
    "grid = RegularGrid(25, 50, (.2, .7), (-.5, .5))"
   ]
  },
  {
   "cell_type": "code",
   "execution_count": null,
   "metadata": {},
   "outputs": [],
   "source": [
    "# phantom = gauss_iso(grid.nx, grid.ny, cen=.3, amp=100)\n",
    "ipsi = iso_psi(grid.nr, grid.nz, span=1.2)  # circular \"flux\" surfaces\n",
    "phantom = gauss(ipsi, cen=.3, amp=100)  # should be the same as gauss_iso"
   ]
  },
  {
   "cell_type": "code",
   "execution_count": null,
   "metadata": {},
   "outputs": [],
   "source": [
    "plt.figure()\n",
    "plt.imshow(phantom, extent=grid.extent, origin='lower')\n",
    "plt.colorbar(label='Emissivity [-]')\n",
    "plt.xlabel('R [-]')\n",
    "plt.ylabel('z [-]')\n",
    "plt.show()"
   ]
  },
  {
   "cell_type": "code",
   "execution_count": null,
   "metadata": {},
   "outputs": [],
   "source": [
    "# Create line of sights start and end points\n",
    "num = 20\n",
    "ss = []\n",
    "es = []\n",
    "s1, e1 = generate_los(num=(num, 1), fov=(70, 0), pinhole=(1, 0, 0), axis=(-1, 0, 0))\n",
    "s2, e2 = generate_los(num=(num, 1), fov=(35, 0), pinhole=(.4, 0, .8), axis=(.1, 0, -1), elong=1.5)\n",
    "s3, e3 = generate_los(num=(num, 1), fov=(50, 0), pinhole=(.75, 0, -.4), axis=(-1, 0, 1), elong=1.5)\n",
    "s4, e4 = generate_los(num=(num, 1), fov=(50, 0), pinhole=(.75, 0, .4), axis=(-1, 0, -1), elong=1.5)\n",
    "ss.append(s1)\n",
    "es.append(e1)\n",
    "ss.append(s2)\n",
    "es.append(e2)\n",
    "ss.append(s3)\n",
    "es.append(e3)\n",
    "es.append(e4)\n",
    "ss.append(s4)\n",
    "s = np.concatenate(ss, 0)\n",
    "e = np.concatenate(es, 0)"
   ]
  },
  {
   "cell_type": "code",
   "execution_count": null,
   "metadata": {},
   "outputs": [],
   "source": [
    "# reformat lines of sights\n",
    "rch = np.empty((s.shape[0], 2))\n",
    "zch = np.empty((s.shape[0], 2))\n",
    "rch[:, 0] = s[:, 0]\n",
    "rch[:, 1] = e[:, 0]\n",
    "zch[:, 0] = s[:, 2]\n",
    "zch[:, 1] = e[:, 2]"
   ]
  },
  {
   "cell_type": "code",
   "execution_count": null,
   "metadata": {},
   "outputs": [],
   "source": [
    "# compute geometry matrix\n",
    "gmat = sparse_line_3d(rch, zch, grid, rmin=.2)"
   ]
  },
  {
   "cell_type": "code",
   "execution_count": null,
   "metadata": {},
   "outputs": [],
   "source": [
    "# sum and plot geometry matrix\n",
    "plt.figure()\n",
    "plt.imshow(gmat.toarray().sum(0).reshape(grid.shape), extent=grid.extent, origin='lower')\n",
    "plt.colorbar(label='Length [-]')\n",
    "plt.xlabel('R [-]')\n",
    "plt.ylabel('z [-]')\n",
    "plt.show()"
   ]
  },
  {
   "cell_type": "code",
   "execution_count": null,
   "metadata": {},
   "outputs": [],
   "source": [
    "# create artificial data using forward model\n",
    "sig = gmat.dot(phantom.flatten())"
   ]
  },
  {
   "cell_type": "code",
   "execution_count": null,
   "metadata": {},
   "outputs": [],
   "source": [
    "# plot signal\n",
    "plt.figure()\n",
    "plt.plot(sig, '+')\n",
    "plt.xlabel('Channel [-]')\n",
    "plt.ylabel('Signal [-]')\n",
    "plt.show()"
   ]
  },
  {
   "cell_type": "code",
   "execution_count": null,
   "metadata": {},
   "outputs": [],
   "source": [
    "data = sig.reshape(1, -1)  # data should have shape (#timeslices, #channels/pixels)"
   ]
  },
  {
   "cell_type": "code",
   "execution_count": null,
   "metadata": {},
   "outputs": [],
   "source": [
    "try: \n",
    "    solver = CholmodMfr()  # requires scikit.sparse\n",
    "except ImportError:\n",
    "    solver = Mfr()  # slowlier version based on scipy.sparse"
   ]
  },
  {
   "cell_type": "code",
   "execution_count": null,
   "metadata": {},
   "outputs": [],
   "source": [
    "# estimation of measurement errors\n",
    "errors = (data + data.max() ) / 2 * .05\n",
    "# errors = .001"
   ]
  },
  {
   "cell_type": "code",
   "execution_count": null,
   "metadata": {},
   "outputs": [],
   "source": [
    "# dmats = compute_iso_dmats(grid)\n",
    "dmats = compute_aniso_dmats(grid, magflux=ipsi)"
   ]
  },
  {
   "cell_type": "code",
   "execution_count": null,
   "metadata": {},
   "outputs": [],
   "source": [
    "res, stats = solver(data, gmat, dmats, errors, aniso=0)"
   ]
  },
  {
   "cell_type": "code",
   "execution_count": null,
   "metadata": {},
   "outputs": [],
   "source": [
    "# plot result\n",
    "f, a = plt.subplots()\n",
    "# img = a.imshow(res.reshape(grid.shape), origin='lower', extent=grid.extent)  # nodes must be squares\n",
    "img = a.pcolorfast(grid.r_center, grid.z_center, res[0].reshape(grid.shape))\n",
    "a.set_aspect(1)\n",
    "plt.colorbar(label='Emissivity [-]')\n",
    "a.set_xlabel('R [-]')\n",
    "a.set_ylabel('z [-]')\n",
    "f.colorbar(img, ax=a)\n",
    "plt.show()"
   ]
  },
  {
   "cell_type": "code",
   "execution_count": null,
   "metadata": {},
   "outputs": [],
   "source": [
    "# plot result and phantom using contours\n",
    "levels = np.linspace(0, res[0].max(), 10)\n",
    "plt.figure()\n",
    "plt.contour(grid.r_center, grid.z_center, res.reshape(grid.shape), levels=levels)\n",
    "plt.contour(grid.r_center, grid.z_center, phantom, linestyles='dotted', levels=levels)\n",
    "\n",
    "# make legend entries\n",
    "proxy = [plt.Line2D([], [], c='k', ls='solid'), plt.Line2D([], [], c='k', ls='dotted')]\n",
    "plt.legend(proxy, ['Result', 'Phantom'])\n",
    "\n",
    "plt.xlabel('R [-]')\n",
    "plt.ylabel('z [-]')\n",
    "plt.show()"
   ]
  },
  {
   "cell_type": "code",
   "execution_count": null,
   "metadata": {},
   "outputs": [],
   "source": [
    "'Emissivity sum MFR: {:.2f} and phantom: {:.2f}'.format(res[0].sum(), phantom.sum())"
   ]
  }
 ],
 "metadata": {
  "interpreter": {
   "hash": "b01bfaa30a67b0b181dd3b10f48d06f5742976a12d04fc44b9f1ae4eea24ef25"
  },
  "kernelspec": {
   "display_name": "Python 3",
   "language": "python",
   "name": "python3"
  },
  "language_info": {
   "codemirror_mode": {
    "name": "ipython",
    "version": 3
   },
   "file_extension": ".py",
   "mimetype": "text/x-python",
   "name": "python",
   "nbconvert_exporter": "python",
   "pygments_lexer": "ipython3",
   "version": "3.8.8"
  },
  "orig_nbformat": 2
 },
 "nbformat": 4,
 "nbformat_minor": 2
}
