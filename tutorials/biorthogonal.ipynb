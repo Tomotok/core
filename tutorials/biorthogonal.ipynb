{
 "cells": [
  {
   "cell_type": "markdown",
   "source": [
    "# BiOrthogonal Basis Decomposistion"
   ],
   "metadata": {}
  },
  {
   "cell_type": "code",
   "execution_count": null,
   "source": [
    "import matplotlib.pyplot as plt\n",
    "import numpy as np\n",
    "\n",
    "from tomotok.core.geometry import sparse_line_3d, generate_los, RegularGrid\n",
    "from tomotok.core.phantoms import gauss_iso\n",
    "from tomotok.core.inversions import SimpleBob"
   ],
   "outputs": [],
   "metadata": {}
  },
  {
   "cell_type": "markdown",
   "source": [
    "### Phantom and Grid"
   ],
   "metadata": {}
  },
  {
   "cell_type": "code",
   "execution_count": null,
   "source": [
    "nr, nz = 25, 30\n",
    "grid = RegularGrid(nr, nz, (.2, .7), (-.3, .3))\n",
    "phantom = gauss_iso(grid.nr, grid.nz, cen=.3, w=.05) * 2000"
   ],
   "outputs": [],
   "metadata": {}
  },
  {
   "cell_type": "code",
   "execution_count": null,
   "source": [
    "plt.figure()\n",
    "plt.imshow(phantom, origin='lower', extent=grid.extent)\n",
    "plt.colorbar()\n",
    "plt.xlabel('r [m]')\n",
    "plt.ylabel('Z [m]')\n",
    "plt.show()"
   ],
   "outputs": [],
   "metadata": {}
  },
  {
   "cell_type": "markdown",
   "source": [
    "### Artificial Camera Setup"
   ],
   "metadata": {}
  },
  {
   "cell_type": "code",
   "execution_count": null,
   "source": [
    "pinhole = (.8, -.1, .2)\n",
    "# resolution = (40, 50)\n",
    "resolution = (40, 40)\n",
    "# fov = (30, 60)\n",
    "fov = (40, 40)\n",
    "\n",
    "npix = resolution[0] * resolution[1]\n",
    "axis = (-1, -.25, -.2)"
   ],
   "outputs": [],
   "metadata": {}
  },
  {
   "cell_type": "code",
   "execution_count": null,
   "source": [
    "start, end = generate_los(pinhole=pinhole, num=resolution, fov=fov, axis=axis, elong=3)\n",
    "# nch = start.shape[0]\n",
    "xch = np.zeros((npix, 2))\n",
    "ych = np.zeros((npix, 2))\n",
    "zch = np.zeros((npix, 2))\n",
    "xch[:, 0] = start[:, 0]\n",
    "xch[:, 1] = end[:, 0]\n",
    "ych[:, 0] = start[:, 1]\n",
    "ych[:, 1] = end[:, 1]\n",
    "zch[:, 0] = start[:, 2]\n",
    "zch[:, 1] = end[:, 2]"
   ],
   "outputs": [],
   "metadata": {}
  },
  {
   "cell_type": "markdown",
   "source": [
    "### Geometry Matrix"
   ],
   "metadata": {}
  },
  {
   "cell_type": "code",
   "execution_count": null,
   "source": [
    "gmat = sparse_line_3d(xch, zch, grid, ych, rmin=.2, step=0.005)"
   ],
   "outputs": [],
   "metadata": {}
  },
  {
   "cell_type": "markdown",
   "source": [
    "### Synthetic Image"
   ],
   "metadata": {}
  },
  {
   "cell_type": "code",
   "execution_count": null,
   "source": [
    "image = gmat.dot(phantom.reshape(-1, 1))\n",
    "plt.figure()\n",
    "plt.axis('off')\n",
    "plt.imshow(image.reshape(resolution))\n",
    "plt.colorbar()\n",
    "plt.show()"
   ],
   "outputs": [],
   "metadata": {}
  },
  {
   "cell_type": "markdown",
   "source": [
    "## Inversion"
   ],
   "metadata": {}
  },
  {
   "cell_type": "code",
   "execution_count": null,
   "source": [
    "bob = SimpleBob()"
   ],
   "outputs": [],
   "metadata": {}
  },
  {
   "cell_type": "code",
   "execution_count": null,
   "source": [
    "bob.decompose(gmat)"
   ],
   "outputs": [],
   "metadata": {}
  },
  {
   "cell_type": "code",
   "execution_count": null,
   "source": [
    "res1 = bob.dec_mat.T.dot(image)"
   ],
   "outputs": [],
   "metadata": {}
  },
  {
   "cell_type": "code",
   "execution_count": null,
   "source": [
    "plt.imshow(res1.reshape(grid.shape), origin='lower')\n",
    "plt.colorbar()\n",
    "# plt.savefig('figure location')\n",
    "plt.show()"
   ],
   "outputs": [],
   "metadata": {}
  },
  {
   "cell_type": "code",
   "execution_count": null,
   "source": [
    "res2 = bob(image, gmat)"
   ],
   "outputs": [],
   "metadata": {}
  },
  {
   "cell_type": "code",
   "execution_count": null,
   "source": [
    "plt.imshow(res2.reshape(grid.shape), origin='lower')\n",
    "plt.colorbar()\n",
    "plt.show()"
   ],
   "outputs": [],
   "metadata": {}
  },
  {
   "cell_type": "code",
   "execution_count": null,
   "source": [
    "rf = gmat.dot(res1)"
   ],
   "outputs": [],
   "metadata": {}
  },
  {
   "cell_type": "code",
   "execution_count": null,
   "source": [
    "plt.imshow((rf-image).reshape(resolution))\n",
    "plt.colorbar()\n",
    "plt.show()"
   ],
   "outputs": [],
   "metadata": {}
  },
  {
   "cell_type": "markdown",
   "source": [
    "## Thresholded"
   ],
   "metadata": {}
  },
  {
   "cell_type": "code",
   "execution_count": null,
   "source": [
    "rest = bob.thresholding(image)"
   ],
   "outputs": [],
   "metadata": {}
  },
  {
   "cell_type": "code",
   "execution_count": null,
   "source": [
    "plt.figure()\n",
    "plt.imshow(rest.reshape(grid.shape), origin='lower', extent=grid.extent )\n",
    "plt.colorbar()\n",
    "plt.show()"
   ],
   "outputs": [],
   "metadata": {}
  },
  {
   "cell_type": "code",
   "execution_count": null,
   "source": [
    "plt.imshow(phantom - rest.reshape(grid.shape), origin='lower', extent=grid.extent)\n",
    "plt.colorbar()\n",
    "plt.show()"
   ],
   "outputs": [],
   "metadata": {}
  },
  {
   "cell_type": "code",
   "execution_count": null,
   "source": [
    "rft = gmat.dot(rest)"
   ],
   "outputs": [],
   "metadata": {}
  },
  {
   "cell_type": "code",
   "execution_count": null,
   "source": [
    "plt.imshow((rft-image).reshape(resolution))\n",
    "plt.colorbar()\n",
    "plt.show()"
   ],
   "outputs": [],
   "metadata": {}
  },
  {
   "cell_type": "markdown",
   "source": [
    "### Total Recorded Intensity Check"
   ],
   "metadata": {}
  },
  {
   "cell_type": "code",
   "execution_count": null,
   "source": [
    "print('thresholded {}, full {}, image {} '.format(rft.sum(), rf.sum(), image.sum()))"
   ],
   "outputs": [],
   "metadata": {}
  },
  {
   "cell_type": "markdown",
   "source": [
    "## Saving decomposed matrices"
   ],
   "metadata": {}
  },
  {
   "cell_type": "code",
   "execution_count": null,
   "source": [
    "# bob.save_decomposition('path/to/decomposed_mat', normalised=False)"
   ],
   "outputs": [],
   "metadata": {}
  },
  {
   "cell_type": "code",
   "execution_count": null,
   "source": [
    "# bob.save_decomposition('path/to/decomposed_normalised_mat', normalised=True)"
   ],
   "outputs": [],
   "metadata": {}
  }
 ],
 "metadata": {
  "kernelspec": {
   "name": "python3",
   "display_name": "Python 3.7.3 64-bit ('anaconda3.7': conda)"
  },
  "language_info": {
   "name": "python",
   "version": "3.7.3",
   "mimetype": "text/x-python",
   "codemirror_mode": {
    "name": "ipython",
    "version": 3
   },
   "pygments_lexer": "ipython3",
   "nbconvert_exporter": "python",
   "file_extension": ".py"
  },
  "interpreter": {
   "hash": "b01bfaa30a67b0b181dd3b10f48d06f5742976a12d04fc44b9f1ae4eea24ef25"
  }
 },
 "nbformat": 4,
 "nbformat_minor": 4
}