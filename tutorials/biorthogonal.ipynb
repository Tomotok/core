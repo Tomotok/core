{
 "cells": [
  {
   "cell_type": "markdown",
   "metadata": {},
   "source": [
    "# BiOrthogonal Basis Decomposition"
   ]
  },
  {
   "cell_type": "code",
   "execution_count": null,
   "metadata": {},
   "outputs": [],
   "source": [
    "import matplotlib.pyplot as plt\n",
    "import numpy as np\n",
    "import scipy.sparse as sparse\n",
    "\n",
    "from tomotok.core.geometry import sparse_line_3d, generate_los, RegularGrid\n",
    "from tomotok.core.phantoms import gauss_iso\n",
    "from tomotok.core.inversions import Bob, SparseBob, CholmodBob"
   ]
  },
  {
   "cell_type": "markdown",
   "metadata": {},
   "source": [
    "### Phantom and Grid"
   ]
  },
  {
   "cell_type": "code",
   "execution_count": null,
   "metadata": {},
   "outputs": [],
   "source": [
    "nr, nz = 50, 60\n",
    "grid = RegularGrid(nr, nz, (.2, .7), (-.3, .3))\n",
    "phantom = gauss_iso(grid.nr, grid.nz, cen=.3, w=.05) * 2000\n",
    "phantom = np.roll(phantom, (3, -5), (0, 1))"
   ]
  },
  {
   "cell_type": "code",
   "execution_count": null,
   "metadata": {},
   "outputs": [],
   "source": [
    "plt.figure()\n",
    "plt.imshow(phantom, origin='lower', extent=grid.extent)\n",
    "plt.colorbar(label='Emissivity [-]')\n",
    "plt.xlabel('r [m]')\n",
    "plt.ylabel('Z [m]')\n",
    "plt.show()"
   ]
  },
  {
   "cell_type": "markdown",
   "metadata": {},
   "source": [
    "### Artificial Camera Setup"
   ]
  },
  {
   "cell_type": "code",
   "execution_count": null,
   "metadata": {},
   "outputs": [],
   "source": [
    "pinhole = (.8, -.1, .2)\n",
    "resolution = (60, 60)\n",
    "# resolution = (800, 800)  # higher resolutions requires significant amount of memory\n",
    "fov = (40, 40)\n",
    "axis = (-1, -.3, -.3)"
   ]
  },
  {
   "cell_type": "code",
   "execution_count": null,
   "metadata": {},
   "outputs": [],
   "source": [
    "start, end = generate_los(pinhole=pinhole, num=resolution, fov=fov, axis=axis, elong=3)\n",
    "# reorganize for geometry matrix computation\n",
    "npix = resolution[0] * resolution[1]\n",
    "xch = np.zeros((npix, 2))\n",
    "ych = np.zeros((npix, 2))\n",
    "zch = np.zeros((npix, 2))\n",
    "xch[:, 0] = start[:, 0]\n",
    "xch[:, 1] = end[:, 0]\n",
    "ych[:, 0] = start[:, 1]\n",
    "ych[:, 1] = end[:, 1]\n",
    "zch[:, 0] = start[:, 2]\n",
    "zch[:, 1] = end[:, 2]"
   ]
  },
  {
   "cell_type": "markdown",
   "metadata": {},
   "source": [
    "### Geometry Matrix"
   ]
  },
  {
   "cell_type": "code",
   "execution_count": null,
   "metadata": {},
   "outputs": [],
   "source": [
    "gmat = sparse_line_3d(xch, zch, grid, ych, rmin=.2, step=0.005)"
   ]
  },
  {
   "cell_type": "markdown",
   "metadata": {},
   "source": [
    "### Synthetic Image"
   ]
  },
  {
   "cell_type": "code",
   "execution_count": null,
   "metadata": {},
   "outputs": [],
   "source": [
    "image = gmat.dot(phantom.reshape(-1, 1))  # noiseless image obtained from phantom\n",
    "# adding gaussian noise\n",
    "# reconstructions using simple basis can deteriorate when noise is included\n",
    "# escale = 10\n",
    "# image = image + np.random.normal(0, escale, image.size).reshape(image.shape)\n",
    "\n",
    "plt.figure()\n",
    "plt.axis('off')\n",
    "plt.imshow(image.reshape(resolution))\n",
    "plt.colorbar(label='Signal [-]')\n",
    "plt.show()"
   ]
  },
  {
   "cell_type": "markdown",
   "metadata": {},
   "source": [
    "## Decomposition\n",
    "Has to be done only once for a given basis and geometry matrix\n",
    "\n",
    "Basis matrix should hold base vectors (simple, wavelets...) in columns\n",
    "\n",
    "the choice of basis influences method's de-noising capability"
   ]
  },
  {
   "cell_type": "code",
   "execution_count": null,
   "metadata": {},
   "outputs": [],
   "source": [
    "basis = sparse.eye(gmat.shape[1])  # simplest choice, no de-noising capability"
   ]
  },
  {
   "cell_type": "markdown",
   "metadata": {},
   "source": [
    "Currently there are 3 implementations of BOB decomposition\n",
    "\n",
    " - Bob - standard implementation using numpy least squares method\n",
    " - SparseBob - using scipy.sparse that includes regularisation to avoid singular case in sparse matrix inversion\n",
    " - CholmodBob - sparse implementation using cholesky decomposition from sksparse useful for large matrices, includes simple regularisation to ensure positive definiteness\n",
    "\n",
    "Regularisation can suppress oscillations caused by noise in insufficiently viewed areas of reconstruction plane."
   ]
  },
  {
   "cell_type": "code",
   "execution_count": null,
   "metadata": {},
   "outputs": [],
   "source": [
    "# bob = Bob()  # robust, faster for smaller and/or dense matrices\n",
    "bob = SparseBob()  # faster for sparse matrices\n",
    "# bob = CholmodBob()  # the fastest one, requires sksparse.cholmod\n",
    "\n",
    "bob.decompose(gmat, basis, reg_factor=1e-8)"
   ]
  },
  {
   "cell_type": "markdown",
   "metadata": {},
   "source": [
    "## Inversion"
   ]
  },
  {
   "cell_type": "code",
   "execution_count": null,
   "metadata": {},
   "outputs": [],
   "source": [
    "res = bob(image)"
   ]
  },
  {
   "cell_type": "code",
   "execution_count": null,
   "metadata": {},
   "outputs": [],
   "source": [
    "plt.figure()\n",
    "plt.imshow(res.reshape(grid.shape), origin='lower', extent=grid.extent, vmin=-phantom.max(), vmax=phantom.max())\n",
    "plt.colorbar(label='Emissivity [-]')\n",
    "plt.xlabel('R [-]')\n",
    "plt.ylabel('z [-]')\n",
    "# plt.savefig('/figure/location/name.suffix')\n",
    "plt.show()"
   ]
  },
  {
   "cell_type": "code",
   "execution_count": null,
   "metadata": {},
   "outputs": [],
   "source": [
    "# retrofit\n",
    "rf = gmat.dot(res)\n",
    "plt.figure()\n",
    "plt.imshow((rf-image).reshape(resolution))\n",
    "plt.colorbar(label='Retrofit - Signal [-]')\n",
    "plt.axis('off')\n",
    "plt.show()"
   ]
  },
  {
   "cell_type": "markdown",
   "metadata": {},
   "source": [
    "## Thresholded"
   ]
  },
  {
   "cell_type": "code",
   "execution_count": null,
   "metadata": {},
   "outputs": [],
   "source": [
    "rest = bob.thresholding(image, c=3.1)"
   ]
  },
  {
   "cell_type": "code",
   "execution_count": null,
   "metadata": {},
   "outputs": [],
   "source": [
    "plt.figure()\n",
    "plt.imshow(rest.reshape(grid.shape), origin='lower', extent=grid.extent)\n",
    "plt.xlabel('R [-]')\n",
    "plt.ylabel('z [-]')\n",
    "plt.colorbar(label='Emissivity [-]')\n",
    "plt.show()"
   ]
  },
  {
   "cell_type": "code",
   "execution_count": null,
   "metadata": {},
   "outputs": [],
   "source": [
    "plt.figure()\n",
    "plt.imshow(phantom - rest.reshape(grid.shape), origin='lower', extent=grid.extent)\n",
    "plt.xlabel('R [-]')\n",
    "plt.ylabel('z [-]')\n",
    "plt.colorbar(label='Phantom - Result [-]')\n",
    "plt.show()"
   ]
  },
  {
   "cell_type": "code",
   "execution_count": null,
   "metadata": {},
   "outputs": [],
   "source": [
    "rft = gmat.dot(rest)  # retrofit, forward model"
   ]
  },
  {
   "cell_type": "code",
   "execution_count": null,
   "metadata": {},
   "outputs": [],
   "source": [
    "plt.figure()\n",
    "plt.axis('off')\n",
    "plt.imshow((rft-image).reshape(resolution))\n",
    "plt.colorbar(label='Retrofit - Signal [-]')\n",
    "plt.show()"
   ]
  },
  {
   "cell_type": "markdown",
   "metadata": {},
   "source": [
    "### Total Recorded Intensity Check"
   ]
  },
  {
   "cell_type": "code",
   "execution_count": null,
   "metadata": {},
   "outputs": [],
   "source": [
    "print('thresholded {}, full {}, image {} '.format(rft.sum(), rf.sum(), image.sum()))"
   ]
  },
  {
   "cell_type": "markdown",
   "metadata": {},
   "source": [
    "## Saving decomposed matrices"
   ]
  },
  {
   "cell_type": "code",
   "execution_count": null,
   "metadata": {},
   "outputs": [],
   "source": [
    "# bob.save_decomposition('path/to/decomposed_mat')"
   ]
  }
 ],
 "metadata": {
  "interpreter": {
   "hash": "1151b7ff23027c657d789cc46e8e163c83031cce3e7a08e093da0d0529a3264f"
  },
  "kernelspec": {
   "display_name": "Python 3",
   "language": "python",
   "name": "python3"
  },
  "language_info": {
   "codemirror_mode": {
    "name": "ipython",
    "version": 3
   },
   "file_extension": ".py",
   "mimetype": "text/x-python",
   "name": "python",
   "nbconvert_exporter": "python",
   "pygments_lexer": "ipython3",
   "version": "3.8.8"
  }
 },
 "nbformat": 4,
 "nbformat_minor": 4
}
