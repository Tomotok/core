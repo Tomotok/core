{
 "metadata": {
  "orig_nbformat": 2,
  "kernelspec": {
   "name": "python3",
   "display_name": "Python 3.7.3 64-bit ('anaconda3.7': conda)"
  },
  "interpreter": {
   "hash": "b01bfaa30a67b0b181dd3b10f48d06f5742976a12d04fc44b9f1ae4eea24ef25"
  },
  "language_info": {
   "name": "python",
   "version": "3.7.3",
   "mimetype": "text/x-python",
   "codemirror_mode": {
    "name": "ipython",
    "version": 3
   },
   "pygments_lexer": "ipython3",
   "nbconvert_exporter": "python",
   "file_extension": ".py"
  }
 },
 "nbformat": 4,
 "nbformat_minor": 2,
 "cells": [
  {
   "cell_type": "code",
   "execution_count": null,
   "source": [
    "import matplotlib.pyplot as plt\n",
    "import numpy as np\n",
    "\n",
    "from tomotok.core.phantoms import gauss_iso\n",
    "from tomotok.core.geometry import generate_los, sparse_line_3d, RegularGrid\n",
    "from tomotok.core.derivative import compute_iso_dmats\n",
    "from tomotok.core.inversions import SvdFastAlgebraic, GevFastAlgebraic"
   ],
   "outputs": [],
   "metadata": {}
  },
  {
   "cell_type": "code",
   "execution_count": null,
   "source": [
    "grid = RegularGrid(30, 60, (.2, .7), (-.5, .5))"
   ],
   "outputs": [],
   "metadata": {}
  },
  {
   "cell_type": "code",
   "execution_count": null,
   "source": [
    "phantom = gauss_iso(grid.nr, grid.nz, cen=.3, amp=100)"
   ],
   "outputs": [],
   "metadata": {}
  },
  {
   "cell_type": "code",
   "execution_count": null,
   "source": [
    "plt.figure()\n",
    "plt.imshow(phantom, extent=grid.extent, origin='lower')\n",
    "plt.colorbar()\n",
    "plt.show()"
   ],
   "outputs": [],
   "metadata": {}
  },
  {
   "cell_type": "code",
   "execution_count": null,
   "source": [
    "num = 20\n",
    "ss = []\n",
    "es = []\n",
    "s1, e1 = generate_los(num=(num, 1), fov=(70, 0), pinhole=(1, 0, 0), axis=(-1, 0, 0))\n",
    "s2, e2 = generate_los(num=(num, 1), fov=(35, 0), pinhole=(.4, 0, .8), axis=(.1, 0, -1), elong=1.5)\n",
    "s3, e3 = generate_los(num=(num, 1), fov=(50, 0), pinhole=(.75, 0, -.4), axis=(-1, 0, 1), elong=1.5)\n",
    "s4, e4 = generate_los(num=(num, 1), fov=(50, 0), pinhole=(.75, 0, .4), axis=(-1, 0, -1), elong=1.5)\n",
    "ss.append(s1)\n",
    "es.append(e1)\n",
    "ss.append(s2)\n",
    "es.append(e2)\n",
    "ss.append(s3)\n",
    "es.append(e3)\n",
    "es.append(e4)\n",
    "ss.append(s4)\n",
    "s = np.concatenate(ss, 0)\n",
    "e = np.concatenate(es, 0)"
   ],
   "outputs": [],
   "metadata": {}
  },
  {
   "cell_type": "code",
   "execution_count": null,
   "source": [
    "rch = np.empty((s.shape[0], 2))\n",
    "zch = np.empty((s.shape[0], 2))\n",
    "rch[:, 0] = s[:, 0]\n",
    "rch[:, 1] = e[:, 0]\n",
    "zch[:, 0] = s[:, 2]\n",
    "zch[:, 1] = e[:, 2]"
   ],
   "outputs": [],
   "metadata": {}
  },
  {
   "cell_type": "code",
   "execution_count": null,
   "source": [
    "gmat = sparse_line_3d(rch, zch, grid, rmin=.2)\n",
    "gmat = gmat.toarray()"
   ],
   "outputs": [],
   "metadata": {}
  },
  {
   "cell_type": "code",
   "execution_count": null,
   "source": [
    "plt.figure()\n",
    "plt.imshow(gmat.sum(0).reshape(grid.shape), extent=grid.extent, origin='lower')\n",
    "plt.colorbar()\n",
    "plt.show()"
   ],
   "outputs": [],
   "metadata": {}
  },
  {
   "cell_type": "code",
   "execution_count": null,
   "source": [
    "sig = gmat.dot(phantom.flatten())"
   ],
   "outputs": [],
   "metadata": {}
  },
  {
   "cell_type": "code",
   "execution_count": null,
   "source": [
    "plt.plot(sig)\n",
    "plt.show()"
   ],
   "outputs": [],
   "metadata": {}
  },
  {
   "cell_type": "code",
   "execution_count": null,
   "source": [
    "data = sig.reshape(1, -1)  # data should have shape (#timeslices, #channels/pixels)"
   ],
   "outputs": [],
   "metadata": {}
  },
  {
   "cell_type": "code",
   "execution_count": null,
   "source": [
    "errors = (data + data.max() ) / 2 * .05\n",
    "# errors = .001"
   ],
   "outputs": [],
   "metadata": {}
  },
  {
   "cell_type": "code",
   "execution_count": null,
   "source": [
    "svd = SvdFastAlgebraic()\n",
    "gev = GevFastAlgebraic()"
   ],
   "outputs": [],
   "metadata": {}
  },
  {
   "cell_type": "code",
   "execution_count": null,
   "source": [
    "dmats = compute_iso_dmats(grid, derivatives=[1,2])"
   ],
   "outputs": [],
   "metadata": {}
  },
  {
   "cell_type": "code",
   "execution_count": null,
   "source": [
    "sout = svd(data, gmat, dmats, errors)"
   ],
   "outputs": [],
   "metadata": {}
  },
  {
   "cell_type": "code",
   "execution_count": null,
   "source": [
    "plt.imshow(sout[0].reshape(grid.shape), origin='lower', extent=grid.extent)\n",
    "plt.colorbar()\n",
    "plt.show()"
   ],
   "outputs": [],
   "metadata": {}
  },
  {
   "cell_type": "code",
   "execution_count": null,
   "source": [
    "gout = gev(data, gmat, dmats, errors)"
   ],
   "outputs": [],
   "metadata": {}
  },
  {
   "cell_type": "code",
   "execution_count": null,
   "source": [
    "plt.imshow(gout[0].reshape(grid.shape), origin='lower', extent=grid.extent)\n",
    "plt.colorbar()\n",
    "plt.show()"
   ],
   "outputs": [],
   "metadata": {}
  }
 ]
}